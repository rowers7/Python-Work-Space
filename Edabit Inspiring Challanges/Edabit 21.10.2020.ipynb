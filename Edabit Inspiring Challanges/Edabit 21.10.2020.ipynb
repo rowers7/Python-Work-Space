{
 "cells": [
  {
   "cell_type": "markdown",
   "metadata": {},
   "source": [
    "# 1 \n",
    "#### return 'p1' if v < 0 else 'p2' if v > 0 else 'tie'"
   ]
  },
  {
   "cell_type": "code",
   "execution_count": 1,
   "metadata": {},
   "outputs": [],
   "source": [
    "def showdown(p1, p2):\n",
    "    result = p1.find('Bang!')\n",
    "    result = p2.find('Bang!') \n",
    "    if p1 > p2:\n",
    "        return \"p1\"\n",
    "    elif p2>p1:\n",
    "        return \"p2\"\n",
    "    else:\n",
    "        return \"tie\""
   ]
  },
  {
   "cell_type": "code",
   "execution_count": 3,
   "metadata": {},
   "outputs": [],
   "source": [
    "def showdown2(p1, p2):\n",
    "    v = p1.find('B') - p2.find('B')\n",
    "    return 'p1' if v < 0 else 'p2' if v > 0 else 'tie'"
   ]
  },
  {
   "cell_type": "code",
   "execution_count": 7,
   "metadata": {},
   "outputs": [
    {
     "name": "stdout",
     "output_type": "stream",
     "text": [
      "p2\n",
      "p2\n"
     ]
    }
   ],
   "source": [
    "print(showdown2(\"   Bang!\",\"Bang!\"))\n",
    "print(showdown2(\"   Bang!\",\"Bang!\"))"
   ]
  },
  {
   "cell_type": "markdown",
   "metadata": {},
   "source": [
    "___________"
   ]
  },
  {
   "cell_type": "markdown",
   "metadata": {},
   "source": [
    "## Split()"
   ]
  },
  {
   "cell_type": "code",
   "execution_count": 26,
   "metadata": {},
   "outputs": [
    {
     "name": "stdout",
     "output_type": "stream",
     "text": [
      "['Line1-abcdef', 'Line2-abc', 'Line4-abcd']\n",
      "['Line1', 'abcdef Line2', 'abc Line4', 'abcd']\n"
     ]
    }
   ],
   "source": [
    "text = \"Line1-abcdef Line2-abc Line4-abcd\";\n",
    "print(text.split( ))\n",
    "print(text.split('-', 3 ))"
   ]
  },
  {
   "cell_type": "markdown",
   "metadata": {},
   "source": [
    "## Join()"
   ]
  },
  {
   "cell_type": "code",
   "execution_count": 30,
   "metadata": {},
   "outputs": [
    {
     "name": "stdout",
     "output_type": "stream",
     "text": [
      "a***b***c\n"
     ]
    }
   ],
   "source": [
    "s = \"***\";\n",
    "seq = (\"a\", \"b\", \"c\")\n",
    "print(s.join( seq ))"
   ]
  },
  {
   "cell_type": "markdown",
   "metadata": {},
   "source": [
    "## Reversed()"
   ]
  },
  {
   "cell_type": "code",
   "execution_count": 32,
   "metadata": {},
   "outputs": [
    {
     "name": "stdout",
     "output_type": "stream",
     "text": [
      "['s', 'k', 'e', 'e', 'g', ' ', 'r', 'o', 'f', ' ', 's', 'k', 'e', 'e', 'g']\n"
     ]
    }
   ],
   "source": [
    "seqString = 'geeks for geeks'\n",
    "print(list(reversed(seqString))) "
   ]
  },
  {
   "cell_type": "code",
   "execution_count": 35,
   "metadata": {},
   "outputs": [
    {
     "name": "stdout",
     "output_type": "stream",
     "text": [
      "['u', 'o', 'i', 'e', 'a']\n"
     ]
    }
   ],
   "source": [
    "vowels = ['a', 'e', 'i', 'o', 'u'] \n",
    "def __reversed__(self): \n",
    "    return reversed(self.vowels) \n",
    "\n",
    "if __name__ == '__main__': \n",
    "    print(list(reversed(vowels))) "
   ]
  },
  {
   "cell_type": "markdown",
   "metadata": {},
   "source": [
    "# 2"
   ]
  },
  {
   "cell_type": "code",
   "execution_count": 83,
   "metadata": {},
   "outputs": [],
   "source": [
    "def name_shuffle(txt):\n",
    "  return \"---\".join(txt.split()[::-1])"
   ]
  },
  {
   "cell_type": "code",
   "execution_count": 84,
   "metadata": {},
   "outputs": [
    {
     "data": {
      "text/plain": [
       "'YILDIZ---Saygın'"
      ]
     },
     "execution_count": 84,
     "metadata": {},
     "output_type": "execute_result"
    }
   ],
   "source": [
    "name_shuffle(\"Saygın YILDIZ\")"
   ]
  },
  {
   "cell_type": "code",
   "execution_count": null,
   "metadata": {},
   "outputs": [],
   "source": []
  },
  {
   "cell_type": "code",
   "execution_count": null,
   "metadata": {},
   "outputs": [],
   "source": []
  }
 ],
 "metadata": {
  "kernelspec": {
   "display_name": "Python 3",
   "language": "python",
   "name": "python3"
  },
  "language_info": {
   "codemirror_mode": {
    "name": "ipython",
    "version": 3
   },
   "file_extension": ".py",
   "mimetype": "text/x-python",
   "name": "python",
   "nbconvert_exporter": "python",
   "pygments_lexer": "ipython3",
   "version": "3.7.6"
  }
 },
 "nbformat": 4,
 "nbformat_minor": 4
}
