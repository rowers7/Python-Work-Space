{
 "cells": [
  {
   "cell_type": "markdown",
   "metadata": {},
   "source": [
    "* 1.    abs()\n",
    "* 2.    bin()\n",
    "* 3.    eval()\n",
    "* 4.    find()\n",
    "* 5.    index()\n",
    "* 6.    istance()\n",
    "* 7.    join()\n",
    "* 8.    split()\n",
    "* 9.    strip()\n",
    "* 10.   replace()\n",
    "* 11.   reversed()"
   ]
  },
  {
   "cell_type": "markdown",
   "metadata": {},
   "source": [
    "# Kaynaklar"
   ]
  },
  {
   "cell_type": "markdown",
   "metadata": {},
   "source": [
    "https://www.pythondersleri.com/2013/05/karakter-dizileri.html\n",
    "\n",
    "https://python-istihza.yazbel.com/"
   ]
  },
  {
   "cell_type": "markdown",
   "metadata": {},
   "source": [
    "## Abs()\n",
    "Mutlak değer alır"
   ]
  },
  {
   "cell_type": "markdown",
   "metadata": {},
   "source": [
    "## Bin()"
   ]
  },
  {
   "cell_type": "code",
   "execution_count": 6,
   "metadata": {},
   "outputs": [
    {
     "name": "stdout",
     "output_type": "stream",
     "text": [
      "0b1111000\n"
     ]
    }
   ],
   "source": [
    "num = bin(120)\n",
    "print(num)"
   ]
  },
  {
   "cell_type": "code",
   "execution_count": 9,
   "metadata": {
    "scrolled": true
   },
   "outputs": [
    {
     "data": {
      "text/plain": [
       "'1111000'"
      ]
     },
     "execution_count": 9,
     "metadata": {},
     "output_type": "execute_result"
    }
   ],
   "source": [
    "without_b_2 = f'{120:b}'\n",
    "without_b_2"
   ]
  },
  {
   "cell_type": "markdown",
   "metadata": {},
   "source": [
    "-----------"
   ]
  },
  {
   "cell_type": "code",
   "execution_count": 8,
   "metadata": {},
   "outputs": [
    {
     "name": "stdout",
     "output_type": "stream",
     "text": [
      "0b101\n"
     ]
    }
   ],
   "source": [
    "class Binary:\n",
    "    num = 5\n",
    "    \n",
    "    def __index__(self):\n",
    "        return self.num\n",
    "num = bin(Binary())\n",
    "print(num)"
   ]
  },
  {
   "cell_type": "markdown",
   "metadata": {},
   "source": [
    "## Eval() \n",
    "String'i sayıya çeviriyor\n"
   ]
  },
  {
   "cell_type": "code",
   "execution_count": 60,
   "metadata": {},
   "outputs": [],
   "source": [
    "def correct_signs(txt):\n",
    "    return eval(txt)"
   ]
  },
  {
   "cell_type": "code",
   "execution_count": 61,
   "metadata": {
    "scrolled": true
   },
   "outputs": [
    {
     "data": {
      "text/plain": [
       "False"
      ]
     },
     "execution_count": 61,
     "metadata": {},
     "output_type": "execute_result"
    }
   ],
   "source": [
    "correct_signs(\"3>4\")"
   ]
  },
  {
   "cell_type": "markdown",
   "metadata": {},
   "source": [
    "## Find()"
   ]
  },
  {
   "cell_type": "code",
   "execution_count": 52,
   "metadata": {
    "scrolled": true
   },
   "outputs": [
    {
     "name": "stdout",
     "output_type": "stream",
     "text": [
      "Substring 'geeks' found at index: 0\n",
      "Substring 'for ' found at index: 6\n"
     ]
    }
   ],
   "source": [
    "word = 'geeks for geeks'\n",
    "result = word.find('geeks') \n",
    "result2 = word.find('for') \n",
    "\n",
    "print (\"Substring 'geeks' found at index:\", result )\n",
    "print (\"Substring 'for ' found at index:\", result2 ) "
   ]
  },
  {
   "cell_type": "code",
   "execution_count": 53,
   "metadata": {
    "scrolled": true
   },
   "outputs": [
    {
     "name": "stdout",
     "output_type": "stream",
     "text": [
      "Contains given substring \n"
     ]
    }
   ],
   "source": [
    "if (word.find('geeks') == False): \n",
    "    print (\"Contains given substring \") \n",
    "else: \n",
    "    print (\"Doesn't contains given substring\") "
   ]
  },
  {
   "cell_type": "code",
   "execution_count": 54,
   "metadata": {},
   "outputs": [
    {
     "name": "stdout",
     "output_type": "stream",
     "text": [
      "1\n"
     ]
    }
   ],
   "source": [
    "print(word.find('e', 1))  \n"
   ]
  },
  {
   "cell_type": "code",
   "execution_count": 58,
   "metadata": {},
   "outputs": [
    {
     "name": "stdout",
     "output_type": "stream",
     "text": [
      "-1\n"
     ]
    }
   ],
   "source": [
    "print(word.find('geeks ',2))  "
   ]
  },
  {
   "cell_type": "code",
   "execution_count": 59,
   "metadata": {},
   "outputs": [
    {
     "name": "stdout",
     "output_type": "stream",
     "text": [
      "6\n"
     ]
    }
   ],
   "source": [
    "print(word.find('for ', 4, 11))  "
   ]
  },
  {
   "cell_type": "markdown",
   "metadata": {},
   "source": [
    "## İndex()"
   ]
  },
  {
   "cell_type": "code",
   "execution_count": 2,
   "metadata": {
    "scrolled": true
   },
   "outputs": [
    {
     "name": "stdout",
     "output_type": "stream",
     "text": [
      "3\n"
     ]
    }
   ],
   "source": [
    "fruits = [4, 55, 64, 32, 16, 32]\n",
    "x = fruits.index(32)\n",
    "print(x)"
   ]
  },
  {
   "cell_type": "markdown",
   "metadata": {},
   "source": [
    "## isistance()\n",
    "Tür uyuşumu varsa True yoksa False döndürür. "
   ]
  },
  {
   "cell_type": "code",
   "execution_count": 1,
   "metadata": {},
   "outputs": [
    {
     "name": "stdout",
     "output_type": "stream",
     "text": [
      "[1, 2, 3] instance of list? True\n",
      "[1, 2, 3] instance of dict? False\n",
      "[1, 2, 3] instance of dict or list? True\n",
      "5 instance of list? False\n",
      "5 instance of int? True\n"
     ]
    }
   ],
   "source": [
    "numbers = [1, 2, 3]\n",
    "\n",
    "result = isinstance(numbers, list)\n",
    "print(numbers,'instance of list?', result)\n",
    "\n",
    "result = isinstance(numbers, dict)\n",
    "print(numbers,'instance of dict?', result)\n",
    "\n",
    "result = isinstance(numbers, (dict, list))\n",
    "print(numbers,'instance of dict or list?', result)\n",
    "\n",
    "number = 5\n",
    "\n",
    "result = isinstance(number, list)\n",
    "print(number,'instance of list?', result)\n",
    "\n",
    "result = isinstance(number, int)\n",
    "print(number,'instance of int?', result)"
   ]
  },
  {
   "cell_type": "markdown",
   "metadata": {},
   "source": [
    "## Join()"
   ]
  },
  {
   "cell_type": "code",
   "execution_count": 3,
   "metadata": {},
   "outputs": [
    {
     "name": "stdout",
     "output_type": "stream",
     "text": [
      "a***b***c\n"
     ]
    }
   ],
   "source": [
    "s = \"***\";\n",
    "seq = (\"a\", \"b\", \"c\")\n",
    "print(s.join( seq ))"
   ]
  },
  {
   "cell_type": "markdown",
   "metadata": {},
   "source": [
    "## Split()"
   ]
  },
  {
   "cell_type": "code",
   "execution_count": 2,
   "metadata": {},
   "outputs": [
    {
     "name": "stdout",
     "output_type": "stream",
     "text": [
      "['Line1-abcdef', 'Line2-abc', 'Line4-abcd']\n",
      "['Line1', 'abcdef Line2', 'abc Line4', 'abcd']\n"
     ]
    }
   ],
   "source": [
    "text = \"Line1-abcdef Line2-abc Line4-abcd\";\n",
    "print(text.split( ))\n",
    "print(text.split('-', 3 ))"
   ]
  },
  {
   "cell_type": "markdown",
   "metadata": {},
   "source": [
    "## Strip()"
   ]
  },
  {
   "cell_type": "code",
   "execution_count": 16,
   "metadata": {},
   "outputs": [
    {
     "name": "stdout",
     "output_type": "stream",
     "text": [
      "      ferah ferah   \n",
      "s_sol:ferah ferah   \n",
      "s_sağ:      ferah ferah\n",
      "s_tamamı:ferah ferah\n"
     ]
    }
   ],
   "source": [
    "s =    \"      ferah ferah   \"\n",
    "print(s)\n",
    "s_sol = s.lstrip()\n",
    "print(\"s_sol:\"+s_sol)\n",
    "s_sağ = s.rstrip()\n",
    "print(\"s_sağ:\"+s_sağ)\n",
    "s_tamamı = s.strip()\n",
    "print(\"s_tamamı:\"+s_tamamı)\n"
   ]
  },
  {
   "cell_type": "markdown",
   "metadata": {},
   "source": [
    "## Replace()"
   ]
  },
  {
   "cell_type": "code",
   "execution_count": 5,
   "metadata": {},
   "outputs": [
    {
     "name": "stdout",
     "output_type": "stream",
     "text": [
      "Korsaaaaaaaan Değil Özgür Yaaaaaaaazılım\n"
     ]
    }
   ],
   "source": [
    "a = \"Korsan Değil Özgür Yazılım\"\n",
    "print(a.replace(\"a\",\"aaaaaaaa\"))"
   ]
  },
  {
   "cell_type": "markdown",
   "metadata": {},
   "source": [
    "## Reversed()"
   ]
  },
  {
   "cell_type": "code",
   "execution_count": 4,
   "metadata": {},
   "outputs": [
    {
     "name": "stdout",
     "output_type": "stream",
     "text": [
      "['s', 'k', 'e', 'e', 'g', ' ', 'r', 'o', 'f', ' ', 's', 'k', 'e', 'e', 'g']\n"
     ]
    }
   ],
   "source": [
    "seqString = 'geeks for geeks'\n",
    "print(list(reversed(seqString))) "
   ]
  },
  {
   "cell_type": "markdown",
   "metadata": {},
   "source": [
    "-----------"
   ]
  },
  {
   "cell_type": "code",
   "execution_count": 5,
   "metadata": {
    "scrolled": true
   },
   "outputs": [
    {
     "name": "stdout",
     "output_type": "stream",
     "text": [
      "['u', 'o', 'i', 'e', 'a']\n"
     ]
    }
   ],
   "source": [
    "vowels = ['a', 'e', 'i', 'o', 'u'] \n",
    "def __reversed__(self): \n",
    "    return reversed(self.vowels) \n",
    "\n",
    "if __name__ == '__main__': \n",
    "    print(list(reversed(vowels))) "
   ]
  },
  {
   "cell_type": "markdown",
   "metadata": {},
   "source": [
    "----------"
   ]
  },
  {
   "cell_type": "code",
   "execution_count": null,
   "metadata": {},
   "outputs": [],
   "source": []
  },
  {
   "cell_type": "code",
   "execution_count": null,
   "metadata": {},
   "outputs": [],
   "source": []
  },
  {
   "cell_type": "code",
   "execution_count": null,
   "metadata": {},
   "outputs": [],
   "source": []
  },
  {
   "cell_type": "code",
   "execution_count": null,
   "metadata": {},
   "outputs": [],
   "source": []
  }
 ],
 "metadata": {
  "kernelspec": {
   "display_name": "Python 3",
   "language": "python",
   "name": "python3"
  },
  "language_info": {
   "codemirror_mode": {
    "name": "ipython",
    "version": 3
   },
   "file_extension": ".py",
   "mimetype": "text/x-python",
   "name": "python",
   "nbconvert_exporter": "python",
   "pygments_lexer": "ipython3",
   "version": "3.7.6"
  }
 },
 "nbformat": 4,
 "nbformat_minor": 4
}
